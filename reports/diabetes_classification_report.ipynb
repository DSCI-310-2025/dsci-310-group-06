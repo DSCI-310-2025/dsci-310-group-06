{
 "cells": [
  {
   "cell_type": "markdown",
   "metadata": {},
   "source": [
    "# Introduction\n",
    "\n",
    "Diabetes is a prevalent chronic disease that affects millions worldwide, requiring early detection and proper management to reduce associated health risks. This project aims to develop a classification model to predict diabetes status based on various health indicators. By using data preprocessing strategies, we seek to improve the accuracy of diabetes detection using publicly available health datasets.\n",
    "The dataset used in this project is sourced from the CDC Diabetes Health Indicators dataset, which contains various demographic and lifestyle-related features that may influence the likelihood of diabetes. The primary objective is to classify individuals into diabetic (1) or non-diabetic (0) categories using predictive modeling.\n",
    "The project follows a structured approach to data preparation, exploration, and classification modeling.\n",
    "Firstly, The dataset is obtained from an external source and loaded into R. Then, the raw dataset is inspected for completeness and correctness. Checking for missing values and unique values in each feature. Converting categorical variables (such as age, smoking status, and blood pressure) into factor types to facilitate analysis.\n",
    "Moreover, the dataset is highly imbalanced, with more non-diabetic cases than diabetic ones. To address this, the ROSE (Random Over-Sampling Examples) technique is applied to generate synthetic data points and balance the dataset.\n",
    "Various visualizations (bar plots, box plots, and scatter plots) are generated to explore the relationships between health indicators and diabetes status. Trends in factors such as BMI, high blood pressure, cholesterol levels, and physical activity are examined. The dataset is split into 75% training data and 25% testing data to build and evaluate machine learning models.\n",
    "\n"
   ]
  }
 ],
 "metadata": {
  "language_info": {
   "name": "python"
  }
 },
 "nbformat": 4,
 "nbformat_minor": 2
}
