{
 "cells": [
  {
   "cell_type": "markdown",
   "metadata": {},
   "source": [
    "# Title"
   ]
  },
  {
   "cell_type": "markdown",
   "metadata": {},
   "source": []
  },
  {
   "cell_type": "markdown",
   "metadata": {},
   "source": [
    "# Summary"
   ]
  },
  {
   "cell_type": "code",
   "execution_count": null,
   "metadata": {
    "vscode": {
     "languageId": "r"
    }
   },
   "outputs": [],
   "source": []
  },
  {
   "cell_type": "markdown",
   "metadata": {},
   "source": [
    "# Introduction\n",
    "\n",
    "Diabetes is a prevalent chronic disease that affects millions worldwide, requiring early detection and proper management to reduce associated health risks. This project aims to develop a classification model to predict diabetes status based on various health indicators. By using data preprocessing strategies, we seek to improve the accuracy of diabetes detection using publicly available health datasets.\n",
    "The dataset used in this project is sourced from the CDC Diabetes Health Indicators dataset, which contains various demographic and lifestyle-related features that may influence the likelihood of diabetes. The primary objective is to classify individuals into diabetic (1) or non-diabetic (0) categories using predictive modeling.\n",
    "The project follows a structured approach to data preparation, exploration, and classification modeling.\n",
    "Firstly, The dataset is obtained from an external source and loaded into R. Then, the raw dataset is inspected for completeness and correctness. Checking for missing values and unique values in each feature. Converting categorical variables (such as age, smoking status, and blood pressure) into factor types to facilitate analysis.\n",
    "Moreover, the dataset is highly imbalanced, with more non-diabetic cases than diabetic ones. To address this, the ROSE (Random Over-Sampling Examples) technique is applied to generate synthetic data points and balance the dataset.\n",
    "Various visualizations (bar plots, box plots, and scatter plots) are generated to explore the relationships between health indicators and diabetes status. Trends in factors such as BMI, high blood pressure, cholesterol levels, and physical activity are examined. The dataset is split into 75% training data and 25% testing data to build and evaluate machine learning models.\n",
    "\n"
   ]
  },
  {
   "cell_type": "markdown",
   "metadata": {},
   "source": [
    "# Methods & Results"
   ]
  },
  {
   "cell_type": "markdown",
   "metadata": {},
   "source": [
    "*describe in written english the methods you used to perform your analysis from beginning to end that narrates the code the does the analysis.*"
   ]
  },
  {
   "cell_type": "markdown",
   "metadata": {},
   "source": [
    "#### (1) Loading Data from Original Source On The Web"
   ]
  },
  {
   "cell_type": "code",
   "execution_count": 5,
   "metadata": {
    "vscode": {
     "languageId": "r"
    }
   },
   "outputs": [
    {
     "name": "stderr",
     "output_type": "stream",
     "text": [
      "also installing the dependency ‘RcppEigen’\n",
      "\n",
      "\n",
      "Updating HTML index of packages in '.Library'\n",
      "\n",
      "Making 'packages.html' ...\n",
      " done\n",
      "\n"
     ]
    }
   ],
   "source": [
    "install.packages(\"glmnet\")"
   ]
  },
  {
   "cell_type": "code",
   "execution_count": 2,
   "metadata": {
    "scrolled": true,
    "vscode": {
     "languageId": "r"
    }
   },
   "outputs": [
    {
     "name": "stderr",
     "output_type": "stream",
     "text": [
      "── \u001b[1mAttaching core tidyverse packages\u001b[22m ──────────────────────── tidyverse 2.0.0 ──\n",
      "\u001b[32m✔\u001b[39m \u001b[34mdplyr    \u001b[39m 1.1.4     \u001b[32m✔\u001b[39m \u001b[34mreadr    \u001b[39m 2.1.4\n",
      "\u001b[32m✔\u001b[39m \u001b[34mforcats  \u001b[39m 1.0.0     \u001b[32m✔\u001b[39m \u001b[34mstringr  \u001b[39m 1.5.1\n",
      "\u001b[32m✔\u001b[39m \u001b[34mggplot2  \u001b[39m 3.5.1     \u001b[32m✔\u001b[39m \u001b[34mtibble   \u001b[39m 3.2.1\n",
      "\u001b[32m✔\u001b[39m \u001b[34mlubridate\u001b[39m 1.9.4     \u001b[32m✔\u001b[39m \u001b[34mtidyr    \u001b[39m 1.3.1\n",
      "\u001b[32m✔\u001b[39m \u001b[34mpurrr    \u001b[39m 1.0.4     \n",
      "── \u001b[1mConflicts\u001b[22m ────────────────────────────────────────── tidyverse_conflicts() ──\n",
      "\u001b[31m✖\u001b[39m \u001b[34mdplyr\u001b[39m::\u001b[32mfilter()\u001b[39m masks \u001b[34mstats\u001b[39m::filter()\n",
      "\u001b[31m✖\u001b[39m \u001b[34mdplyr\u001b[39m::\u001b[32mlag()\u001b[39m    masks \u001b[34mstats\u001b[39m::lag()\n",
      "\u001b[36mℹ\u001b[39m Use the conflicted package (\u001b[3m\u001b[34m<http://conflicted.r-lib.org/>\u001b[39m\u001b[23m) to force all conflicts to become errors\n",
      "── \u001b[1mAttaching packages\u001b[22m ────────────────────────────────────── tidymodels 1.2.0 ──\n",
      "\n",
      "\u001b[32m✔\u001b[39m \u001b[34mbroom       \u001b[39m 1.0.7     \u001b[32m✔\u001b[39m \u001b[34mrsample     \u001b[39m 1.2.1\n",
      "\u001b[32m✔\u001b[39m \u001b[34mdials       \u001b[39m 1.4.0     \u001b[32m✔\u001b[39m \u001b[34mtune        \u001b[39m 1.2.1\n",
      "\u001b[32m✔\u001b[39m \u001b[34minfer       \u001b[39m 1.0.7     \u001b[32m✔\u001b[39m \u001b[34mworkflows   \u001b[39m 1.2.0\n",
      "\u001b[32m✔\u001b[39m \u001b[34mmodeldata   \u001b[39m 1.4.0     \u001b[32m✔\u001b[39m \u001b[34mworkflowsets\u001b[39m 1.1.0\n",
      "\u001b[32m✔\u001b[39m \u001b[34mparsnip     \u001b[39m 1.3.0     \u001b[32m✔\u001b[39m \u001b[34myardstick   \u001b[39m 1.3.2\n",
      "\u001b[32m✔\u001b[39m \u001b[34mrecipes     \u001b[39m 1.1.1     \n",
      "\n",
      "── \u001b[1mConflicts\u001b[22m ───────────────────────────────────────── tidymodels_conflicts() ──\n",
      "\u001b[31m✖\u001b[39m \u001b[34mscales\u001b[39m::\u001b[32mdiscard()\u001b[39m masks \u001b[34mpurrr\u001b[39m::discard()\n",
      "\u001b[31m✖\u001b[39m \u001b[34mdplyr\u001b[39m::\u001b[32mfilter()\u001b[39m   masks \u001b[34mstats\u001b[39m::filter()\n",
      "\u001b[31m✖\u001b[39m \u001b[34mrecipes\u001b[39m::\u001b[32mfixed()\u001b[39m  masks \u001b[34mstringr\u001b[39m::fixed()\n",
      "\u001b[31m✖\u001b[39m \u001b[34mdplyr\u001b[39m::\u001b[32mlag()\u001b[39m      masks \u001b[34mstats\u001b[39m::lag()\n",
      "\u001b[31m✖\u001b[39m \u001b[34myardstick\u001b[39m::\u001b[32mspec()\u001b[39m masks \u001b[34mreadr\u001b[39m::spec()\n",
      "\u001b[31m✖\u001b[39m \u001b[34mrecipes\u001b[39m::\u001b[32mstep()\u001b[39m   masks \u001b[34mstats\u001b[39m::step()\n",
      "\u001b[34m•\u001b[39m Learn how to get started at \u001b[32mhttps://www.tidymodels.org/start/\u001b[39m\n",
      "\n",
      "Loading required package: Matrix\n",
      "\n",
      "\n",
      "Attaching package: ‘Matrix’\n",
      "\n",
      "\n",
      "The following objects are masked from ‘package:tidyr’:\n",
      "\n",
      "    expand, pack, unpack\n",
      "\n",
      "\n",
      "Loaded glmnet 4.1-8\n",
      "\n",
      "Loaded ROSE 0.0-4\n",
      "\n",
      "\n"
     ]
    }
   ],
   "source": [
    "options(repr.plot.width = 15, repr.plot.height = 10, warn = -1)\n",
    "\n",
    "library(reticulate) \n",
    "library(tidyverse) \n",
    "library(tidymodels)\n",
    "library(glmnet)\n",
    "library(patchwork)\n",
    "library(ROSE)\n",
    "library(purrr)"
   ]
  },
  {
   "cell_type": "code",
   "execution_count": 2,
   "metadata": {
    "vscode": {
     "languageId": "r"
    }
   },
   "outputs": [
    {
     "data": {
      "text/html": [
       "<table class=\"dataframe\">\n",
       "<caption>A tibble: 3 × 22</caption>\n",
       "<thead>\n",
       "\t<tr><th scope=col>HighBP</th><th scope=col>HighChol</th><th scope=col>CholCheck</th><th scope=col>BMI</th><th scope=col>Smoker</th><th scope=col>Stroke</th><th scope=col>HeartDiseaseorAttack</th><th scope=col>PhysActivity</th><th scope=col>Fruits</th><th scope=col>Veggies</th><th scope=col>⋯</th><th scope=col>NoDocbcCost</th><th scope=col>GenHlth</th><th scope=col>MentHlth</th><th scope=col>PhysHlth</th><th scope=col>DiffWalk</th><th scope=col>Sex</th><th scope=col>Age</th><th scope=col>Education</th><th scope=col>Income</th><th scope=col>Diabetes_binary</th></tr>\n",
       "\t<tr><th scope=col>&lt;dbl&gt;</th><th scope=col>&lt;dbl&gt;</th><th scope=col>&lt;dbl&gt;</th><th scope=col>&lt;dbl&gt;</th><th scope=col>&lt;dbl&gt;</th><th scope=col>&lt;dbl&gt;</th><th scope=col>&lt;dbl&gt;</th><th scope=col>&lt;dbl&gt;</th><th scope=col>&lt;dbl&gt;</th><th scope=col>&lt;dbl&gt;</th><th scope=col>⋯</th><th scope=col>&lt;dbl&gt;</th><th scope=col>&lt;dbl&gt;</th><th scope=col>&lt;dbl&gt;</th><th scope=col>&lt;dbl&gt;</th><th scope=col>&lt;dbl&gt;</th><th scope=col>&lt;dbl&gt;</th><th scope=col>&lt;dbl&gt;</th><th scope=col>&lt;dbl&gt;</th><th scope=col>&lt;dbl&gt;</th><th scope=col>&lt;dbl&gt;</th></tr>\n",
       "</thead>\n",
       "<tbody>\n",
       "\t<tr><td>1</td><td>1</td><td>1</td><td>40</td><td>1</td><td>0</td><td>0</td><td>0</td><td>0</td><td>1</td><td>⋯</td><td>0</td><td>5</td><td>18</td><td>15</td><td>1</td><td>0</td><td>9</td><td>4</td><td>3</td><td>0</td></tr>\n",
       "\t<tr><td>0</td><td>0</td><td>0</td><td>25</td><td>1</td><td>0</td><td>0</td><td>1</td><td>0</td><td>0</td><td>⋯</td><td>1</td><td>3</td><td> 0</td><td> 0</td><td>0</td><td>0</td><td>7</td><td>6</td><td>1</td><td>0</td></tr>\n",
       "\t<tr><td>1</td><td>1</td><td>1</td><td>28</td><td>0</td><td>0</td><td>0</td><td>0</td><td>1</td><td>0</td><td>⋯</td><td>1</td><td>5</td><td>30</td><td>30</td><td>1</td><td>0</td><td>9</td><td>4</td><td>8</td><td>0</td></tr>\n",
       "</tbody>\n",
       "</table>\n"
      ],
      "text/latex": [
       "A tibble: 3 × 22\n",
       "\\begin{tabular}{lllllllllllllllllllll}\n",
       " HighBP & HighChol & CholCheck & BMI & Smoker & Stroke & HeartDiseaseorAttack & PhysActivity & Fruits & Veggies & ⋯ & NoDocbcCost & GenHlth & MentHlth & PhysHlth & DiffWalk & Sex & Age & Education & Income & Diabetes\\_binary\\\\\n",
       " <dbl> & <dbl> & <dbl> & <dbl> & <dbl> & <dbl> & <dbl> & <dbl> & <dbl> & <dbl> & ⋯ & <dbl> & <dbl> & <dbl> & <dbl> & <dbl> & <dbl> & <dbl> & <dbl> & <dbl> & <dbl>\\\\\n",
       "\\hline\n",
       "\t 1 & 1 & 1 & 40 & 1 & 0 & 0 & 0 & 0 & 1 & ⋯ & 0 & 5 & 18 & 15 & 1 & 0 & 9 & 4 & 3 & 0\\\\\n",
       "\t 0 & 0 & 0 & 25 & 1 & 0 & 0 & 1 & 0 & 0 & ⋯ & 1 & 3 &  0 &  0 & 0 & 0 & 7 & 6 & 1 & 0\\\\\n",
       "\t 1 & 1 & 1 & 28 & 0 & 0 & 0 & 0 & 1 & 0 & ⋯ & 1 & 5 & 30 & 30 & 1 & 0 & 9 & 4 & 8 & 0\\\\\n",
       "\\end{tabular}\n"
      ],
      "text/markdown": [
       "\n",
       "A tibble: 3 × 22\n",
       "\n",
       "| HighBP &lt;dbl&gt; | HighChol &lt;dbl&gt; | CholCheck &lt;dbl&gt; | BMI &lt;dbl&gt; | Smoker &lt;dbl&gt; | Stroke &lt;dbl&gt; | HeartDiseaseorAttack &lt;dbl&gt; | PhysActivity &lt;dbl&gt; | Fruits &lt;dbl&gt; | Veggies &lt;dbl&gt; | ⋯ ⋯ | NoDocbcCost &lt;dbl&gt; | GenHlth &lt;dbl&gt; | MentHlth &lt;dbl&gt; | PhysHlth &lt;dbl&gt; | DiffWalk &lt;dbl&gt; | Sex &lt;dbl&gt; | Age &lt;dbl&gt; | Education &lt;dbl&gt; | Income &lt;dbl&gt; | Diabetes_binary &lt;dbl&gt; |\n",
       "|---|---|---|---|---|---|---|---|---|---|---|---|---|---|---|---|---|---|---|---|---|\n",
       "| 1 | 1 | 1 | 40 | 1 | 0 | 0 | 0 | 0 | 1 | ⋯ | 0 | 5 | 18 | 15 | 1 | 0 | 9 | 4 | 3 | 0 |\n",
       "| 0 | 0 | 0 | 25 | 1 | 0 | 0 | 1 | 0 | 0 | ⋯ | 1 | 3 |  0 |  0 | 0 | 0 | 7 | 6 | 1 | 0 |\n",
       "| 1 | 1 | 1 | 28 | 0 | 0 | 0 | 0 | 1 | 0 | ⋯ | 1 | 5 | 30 | 30 | 1 | 0 | 9 | 4 | 8 | 0 |\n",
       "\n"
      ],
      "text/plain": [
       "  HighBP HighChol CholCheck BMI Smoker Stroke HeartDiseaseorAttack PhysActivity\n",
       "1 1      1        1         40  1      0      0                    0           \n",
       "2 0      0        0         25  1      0      0                    1           \n",
       "3 1      1        1         28  0      0      0                    0           \n",
       "  Fruits Veggies ⋯ NoDocbcCost GenHlth MentHlth PhysHlth DiffWalk Sex Age\n",
       "1 0      1       ⋯ 0           5       18       15       1        0   9  \n",
       "2 0      0       ⋯ 1           3        0        0       0        0   7  \n",
       "3 1      0       ⋯ 1           5       30       30       1        0   9  \n",
       "  Education Income Diabetes_binary\n",
       "1 4         3      0              \n",
       "2 6         1      0              \n",
       "3 4         8      0              "
      ]
     },
     "metadata": {},
     "output_type": "display_data"
    }
   ],
   "source": [
    "py_run_file(\"/home/jovyan/work/src/dataset_download.py\")\n",
    "\n",
    "raw_diabetes_df <- read_csv(\"/home/jovyan/work/data/raw/cdc_diabetes_health_indicators.csv\", show_col_types = FALSE)\n",
    "head(raw_diabetes_df, n = 3)"
   ]
  },
  {
   "cell_type": "markdown",
   "metadata": {},
   "source": [
    "#### (2) Preprocessing: Wrangle, Clean, and Balance Data From Original Format"
   ]
  },
  {
   "cell_type": "code",
   "execution_count": null,
   "metadata": {
    "vscode": {
     "languageId": "r"
    }
   },
   "outputs": [],
   "source": [
    "# (1) Check NA values, the distinct Count of each variable (to see which ones are categorical/binary), and the current data type\n",
    "\n",
    "checking_raw_matrix <- rbind(\n",
    "  NA_Count = sapply(raw_diabetes_df, function(x) sum(is.na(x))),\n",
    "  Distinct_Count = sapply(raw_diabetes_df, function(x) n_distinct(x)),\n",
    "  Current_Data_Type = sapply(raw_diabetes_df, typeof)\n",
    ")\n",
    "\n",
    "checking_raw_df <- as.data.frame(t(checking_raw_matrix))\n",
    "\n",
    "checking_raw_df\n",
    "# --------------------------------------\n",
    "# observations\n",
    "# (1) no NA values\n",
    "# (2) all var except BMI are numerical. Rest are categorical/binary. See metadata for detail\n",
    "# (3) Currently, all are double. "
   ]
  },
  {
   "cell_type": "code",
   "execution_count": null,
   "metadata": {
    "vscode": {
     "languageId": "r"
    }
   },
   "outputs": [],
   "source": [
    "# (2) converting categorical/binary variables into factors\n",
    "\n",
    "raw_diabetes_df <- raw_diabetes_df %>%\n",
    "  mutate(across(!BMI, ~ factor(.)))"
   ]
  },
  {
   "cell_type": "code",
   "execution_count": null,
   "metadata": {
    "vscode": {
     "languageId": "r"
    }
   },
   "outputs": [],
   "source": [
    "# (3) check how unbalance is the dataset + balance the data\n",
    "\n",
    "# it's pretty unbalanced\n",
    "target_result <- raw_diabetes_df %>%\n",
    "  group_by(Diabetes_binary) %>%\n",
    "  summarise(Count = n(), Proportion = n() / nrow(raw_diabetes_df)) %>%\n",
    "  ungroup()\n",
    "\n",
    "# ----------------------------------------\n",
    "# use ROSE to balance data by oversampling\n",
    "\n",
    "set.seed(6)\n",
    "\n",
    "balanced_raw_diabetes_df <- ROSE(Diabetes_binary ~ ., data = raw_diabetes_df, seed = 123)$data\n",
    "\n",
    "balanced_target_result <- balanced_raw_diabetes_df %>%\n",
    "  group_by(Diabetes_binary) %>%\n",
    "  summarise(Count = n(), Proportion = n() / nrow(balanced_raw_diabetes_df)) %>%\n",
    "  ungroup()\n",
    "\n",
    "# -----------------------------------------\n",
    "balanced_raw_comparision_df <- data.frame(\n",
    "  Class = target_result$Diabetes_binary,\n",
    "  Original_Count = target_result$Count,\n",
    "  Original_Proportion = target_result$Proportion,\n",
    "  Balanced_Count = balanced_target_result$Count,\n",
    "  Balanced_Proportion = balanced_target_result$Proportion\n",
    ")\n",
    "\n",
    "balanced_raw_comparision_df"
   ]
  },
  {
   "cell_type": "code",
   "execution_count": null,
   "metadata": {
    "vscode": {
     "languageId": "r"
    }
   },
   "outputs": [],
   "source": [
    "# (4) Write out balanced df into data/processed/ so we don't have to run all the step above each time\n",
    "balanced_raw_diabetes_df %>% write_csv(\"/home/jovyan/work/data/processed/balanced_cdc_diabetes_health_indicators.csv\")"
   ]
  },
  {
   "cell_type": "code",
   "execution_count": 3,
   "metadata": {
    "vscode": {
     "languageId": "r"
    }
   },
   "outputs": [],
   "source": [
    "# Then read it out again so we dont have to run the steps above\n",
    "balanced_raw_diabetes_df <- read_csv(\"/home/jovyan/work/data/processed/balanced_cdc_diabetes_health_indicators.csv\", show_col_types = FALSE) %>%\n",
    "  mutate(across(!BMI, ~ factor(.)))"
   ]
  },
  {
   "cell_type": "code",
   "execution_count": 4,
   "metadata": {
    "vscode": {
     "languageId": "r"
    }
   },
   "outputs": [],
   "source": [
    "# (5) Split data into train + test for ML\n",
    "set.seed(6)\n",
    "\n",
    "diabetes_split <- initial_split(balanced_raw_diabetes_df, prop = 0.75, strata = Diabetes_binary)\n",
    "diabetes_train <- training(diabetes_split)\n",
    "diabetes_test <- testing(diabetes_split)"
   ]
  },
  {
   "cell_type": "markdown",
   "metadata": {},
   "source": [
    "#### (3) EDA - Summary Statistics"
   ]
  },
  {
   "cell_type": "code",
   "execution_count": null,
   "metadata": {
    "vscode": {
     "languageId": "r"
    }
   },
   "outputs": [],
   "source": [
    "# <chi-square-test-here>"
   ]
  },
  {
   "cell_type": "markdown",
   "metadata": {},
   "source": [
    "#### (4) EDA - Visualization"
   ]
  },
  {
   "cell_type": "code",
   "execution_count": null,
   "metadata": {
    "vscode": {
     "languageId": "r"
    }
   },
   "outputs": [],
   "source": [
    "# binary\n",
    "binary_vars <- c(\"HighBP\", \"HighChol\", \"CholCheck\", \"Smoker\", \"Stroke\", \n",
    "                      \"HeartDiseaseorAttack\", \"PhysActivity\", \"Fruits\", \"Veggies\", \n",
    "                      \"HvyAlcoholConsump\", \"AnyHealthcare\", \"NoDocbcCost\", \n",
    "                      \"DiffWalk\", \"Sex\", \"Age\", \"Education\", \"Income\", \"MentHlth\", \"PhysHlth\", \"GenHlth\")\n",
    "\n",
    "# not binary\n",
    "nonbinary_var <- c(\"BMI\")\n",
    "\n",
    "# --------------------------------------------------\n",
    "# inits\n",
    "bar_plots <- list()\n",
    "density_plots <- list()\n",
    "\n",
    "# --------------------------------------------------\n",
    "# Bar plots\n",
    "for (var in binary_vars) {\n",
    "  p <- ggplot(diabetes_train, aes(x = !!sym(var), fill = as.factor(Diabetes_binary))) +\n",
    "    geom_bar(position = \"fill\") + \n",
    "    scale_fill_manual(values = c(\"#FF9999\", \"#66B2FF\")) + \n",
    "    labs(title = paste(\"Diabetes Binary by\", var),\n",
    "         x = var,\n",
    "         y = \"Proportion\",\n",
    "         fill = \"Diabetes_binary\") +\n",
    "    theme_minimal()\n",
    "  bar_plots[[var]] <- p\n",
    "}\n",
    "\n",
    "\n",
    "# --------------------------------------------------\n",
    "# Density plots\n",
    "\n",
    "for (var in nonbinary_var) {\n",
    "  p <- ggplot(diabetes_train, aes(x = !!sym(var), fill = as.factor(Diabetes_binary))) +\n",
    "    geom_density(alpha = 0.5) +\n",
    "    scale_fill_manual(values = c(\"#FF9999\", \"#66B2FF\")) + \n",
    "    labs(title = paste(\"Diabetes Binary by\", var),\n",
    "         x = var,\n",
    "         y = \"Density\",\n",
    "         fill = \"Diabetes_binary\") +\n",
    "    theme_minimal()\n",
    "  density_plots[[var]] <- p\n",
    "}\n",
    "\n",
    "# ----------------------------------------------------------------------------------------------\n",
    "combined_plots <- wrap_plots(c(bar_plots, density_plots), ncol = 3, nrow = 7)\n",
    "print(combined_plots, width = 15, height = 8)"
   ]
  },
  {
   "cell_type": "markdown",
   "metadata": {},
   "source": [
    "#### (5) Classification Analysis"
   ]
  },
  {
   "cell_type": "code",
   "execution_count": 5,
   "metadata": {
    "vscode": {
     "languageId": "r"
    }
   },
   "outputs": [],
   "source": [
    "# --------------------------------------------------\n",
    "# select only var we want first\n",
    "\n",
    "diabetes_train_filtered <- diabetes_train %>%\n",
    "  select(Diabetes_binary, HighBP, HighChol, CholCheck, Stroke, HeartDiseaseorAttack, \n",
    "         HvyAlcoholConsump, DiffWalk, Age, Education, Income, GenHlth)\n",
    "\n",
    "# ---------------------------------------------------\n",
    "# pipeline for logistic regression \n",
    "\n",
    "lr_mod <- logistic_reg(penalty = tune(), mixture = 1) %>% \n",
    "    set_engine(\"glmnet\") %>%\n",
    "    set_mode(\"classification\")\n",
    "\n",
    "folds <- vfold_cv(diabetes_train_filtered, v=5)\n",
    "\n",
    "lr_recipe <- recipe(Diabetes_binary ~ ., data = diabetes_train_filtered) %>%\n",
    "  step_dummy(all_nominal_predictors()) %>% \n",
    "  step_normalize(all_predictors())\n",
    "\n",
    "lr_workflow <- workflow() %>%\n",
    "  add_recipe(lr_recipe)"
   ]
  },
  {
   "cell_type": "code",
   "execution_count": null,
   "metadata": {
    "vscode": {
     "languageId": "r"
    }
   },
   "outputs": [],
   "source": [
    "# tuning with cv set for penalty\n",
    "\n",
    "lambda_grid <- grid_max_entropy(penalty(), size = 10)\n",
    "\n",
    "lasso_grid <- tune_grid(lr_workflow %>% add_model(lr_mod),\n",
    "                                               resamples = folds,\n",
    "                                               grid = lambda_grid,\n",
    "                                               metrics = metric_set(recall))"
   ]
  },
  {
   "cell_type": "code",
   "execution_count": null,
   "metadata": {
    "vscode": {
     "languageId": "r"
    }
   },
   "outputs": [],
   "source": [
    "# chose the metric with highest recall\n",
    "\n",
    "highest_auc <- lasso_grid %>% select_best(metric = \"recall\")\n",
    "\n",
    "lasso_tuned_wflow <- finalize_workflow(lr_workflow %>% \n",
    "                     add_model(lr_mod),highest_auc) %>%\n",
    "                     fit(data = diabetes_train_filtered)"
   ]
  },
  {
   "cell_type": "markdown",
   "metadata": {},
   "source": [
    "#### (6) Result of Analysis - Visualization"
   ]
  },
  {
   "cell_type": "code",
   "execution_count": null,
   "metadata": {
    "vscode": {
     "languageId": "r"
    }
   },
   "outputs": [],
   "source": [
    "# apply on test set\n",
    "\n",
    "lasso_preds <- lasso_tuned_wflow %>% predict(diabetes_test)\n",
    "lasso_probs <- lasso_tuned_wflow %>% predict(diabetes_test, type=\"prob\")\n",
    "lasso_modelOutputs <- cbind(diabetes_test, lasso_preds, lasso_probs)\n",
    "\n",
    "classificationMetrics <- metric_set(sens, spec, ppv, npv, accuracy, recall, f_meas)\n",
    "\n",
    "lasso_metrics <- rbind(classifcationMetrics(lasso_modelOutputs, truth = Diabetes_binary, estimate = .pred_class, event_level = \"second\"),\n",
    "                       roc_auc(lasso_modelOutputs, truth =Diabetes_binary, .pred_1, event_level = \"second\"))\n",
    "lasso_metrics\n",
    "\n",
    "autoplot(roc_curve(lasso_modelOutputs, Diabetes_binary, .pred_1, event_level = \"second\"))"
   ]
  },
  {
   "cell_type": "markdown",
   "metadata": {},
   "source": [
    "# Discussion"
   ]
  },
  {
   "cell_type": "code",
   "execution_count": null,
   "metadata": {
    "vscode": {
     "languageId": "r"
    }
   },
   "outputs": [],
   "source": []
  },
  {
   "cell_type": "markdown",
   "metadata": {},
   "source": [
    "# References"
   ]
  },
  {
   "cell_type": "code",
   "execution_count": null,
   "metadata": {
    "vscode": {
     "languageId": "r"
    }
   },
   "outputs": [],
   "source": []
  }
 ],
 "metadata": {
  "kernelspec": {
   "display_name": "R",
   "language": "R",
   "name": "ir"
  },
  "language_info": {
   "codemirror_mode": "r",
   "file_extension": ".r",
   "mimetype": "text/x-r-source",
   "name": "R",
   "pygments_lexer": "r",
   "version": "4.3.1"
  }
 },
 "nbformat": 4,
 "nbformat_minor": 4
}
